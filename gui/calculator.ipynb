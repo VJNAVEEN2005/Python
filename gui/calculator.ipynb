{
 "cells": [
  {
   "cell_type": "code",
   "execution_count": 1,
   "metadata": {},
   "outputs": [],
   "source": [
    "from tkinter import *"
   ]
  },
  {
   "cell_type": "code",
   "execution_count": 24,
   "metadata": {},
   "outputs": [],
   "source": [
    "root = Tk()\n",
    "\n",
    "input = Entry(root,width=50)\n",
    "input.grid(row=0,column=0,columnspan=3, padx=15,pady=15)\n",
    "\n",
    "def click(num):\n",
    "    current = input.get()\n",
    "    input.delete(0,END)\n",
    "    input.insert(0,str(current)+str(num))\n",
    "    return\n",
    "\n",
    "def add():\n",
    "    current = input.get()\n",
    "    global fnum\n",
    "    fnum = int(current)\n",
    "    input.delete(0,END)\n",
    "    return\n",
    "\n",
    "def clear():\n",
    "    input.delete(0,END)\n",
    "    return\n",
    "\n",
    "def equ():\n",
    "    current = input.get()\n",
    "    snum = int(current)\n",
    "    input.delete(0,END)\n",
    "    input.insert(0,str(fnum+snum))\n",
    "    return\n",
    "\n",
    "button_1 = Button(root, text=\"1\",padx=50,pady=25,command=lambda : click(1))\n",
    "button_2 = Button(root, text=\"2\",padx=50,pady=25,command=lambda : click(2))\n",
    "button_3 = Button(root, text=\"3\",padx=50,pady=25,command=lambda : click(3))\n",
    "button_4 = Button(root, text=\"4\",padx=50,pady=25,command=lambda : click(4))\n",
    "button_5 = Button(root, text=\"5\",padx=50,pady=25,command=lambda : click(5))\n",
    "button_6 = Button(root, text=\"6\",padx=50,pady=25,command=lambda : click(6))\n",
    "button_7 = Button(root, text=\"7\",padx=50,pady=25,command=lambda : click(7))\n",
    "button_8 = Button(root, text=\"8\",padx=50,pady=25,command=lambda : click(8))\n",
    "button_9 = Button(root, text=\"9\",padx=50,pady=25,command=lambda : click(9))\n",
    "button_0 = Button(root, text=\"0\",padx=50,pady=25,command=lambda : click(0))\n",
    "button_add = Button(root,text=\"+\",padx=105,pady=25,command=add)\n",
    "button_clear = Button(root,text=\"AC\",padx=45,pady=25,command=clear)\n",
    "button_ans = Button(root,text=\"=\",padx=105,pady=25,command=equ)\n",
    "\n",
    "\n",
    "button_7.grid(row=1,column=0)\n",
    "button_8.grid(row=1,column=1)\n",
    "button_9.grid(row=1,column=2)\n",
    "\n",
    "button_4.grid(row=2,column=0)\n",
    "button_5.grid(row=2,column=1)\n",
    "button_6.grid(row=2,column=2)\n",
    "\n",
    "button_1.grid(row=3,column=0)\n",
    "button_2.grid(row=3,column=1)\n",
    "button_3.grid(row=3,column=2)\n",
    "\n",
    "button_0.grid(row=4,column=0)\n",
    "button_add.grid(row=4,column=1,columnspan=2)\n",
    "button_clear.grid(row=5,column=0)\n",
    "button_ans.grid(row=5,column=1,columnspan=2)\n",
    "\n",
    "root.mainloop()"
   ]
  },
  {
   "cell_type": "code",
   "execution_count": null,
   "metadata": {},
   "outputs": [],
   "source": []
  }
 ],
 "metadata": {
  "kernelspec": {
   "display_name": "Python 3",
   "language": "python",
   "name": "python3"
  },
  "language_info": {
   "codemirror_mode": {
    "name": "ipython",
    "version": 3
   },
   "file_extension": ".py",
   "mimetype": "text/x-python",
   "name": "python",
   "nbconvert_exporter": "python",
   "pygments_lexer": "ipython3",
   "version": "3.12.3"
  }
 },
 "nbformat": 4,
 "nbformat_minor": 2
}
