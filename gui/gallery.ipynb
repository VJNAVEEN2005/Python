{
 "cells": [
  {
   "cell_type": "code",
   "execution_count": 1,
   "metadata": {},
   "outputs": [],
   "source": [
    "from tkinter import *"
   ]
  },
  {
   "cell_type": "code",
   "execution_count": 2,
   "metadata": {},
   "outputs": [],
   "source": [
    "from PIL import ImageTk, Image"
   ]
  },
  {
   "cell_type": "code",
   "execution_count": 4,
   "metadata": {},
   "outputs": [
    {
     "name": "stderr",
     "output_type": "stream",
     "text": [
      "<>:4: SyntaxWarning: invalid escape sequence '\\p'\n",
      "<>:5: SyntaxWarning: invalid escape sequence '\\c'\n",
      "<>:6: SyntaxWarning: invalid escape sequence '\\c'\n",
      "<>:4: SyntaxWarning: invalid escape sequence '\\p'\n",
      "<>:5: SyntaxWarning: invalid escape sequence '\\c'\n",
      "<>:6: SyntaxWarning: invalid escape sequence '\\c'\n",
      "C:\\Users\\vjnav\\AppData\\Local\\Temp\\ipykernel_17644\\3237567309.py:4: SyntaxWarning: invalid escape sequence '\\p'\n",
      "  py_image = ImageTk.PhotoImage(Image.open(\"image\\python.png\"))\n",
      "C:\\Users\\vjnav\\AppData\\Local\\Temp\\ipykernel_17644\\3237567309.py:5: SyntaxWarning: invalid escape sequence '\\c'\n",
      "  c_image = ImageTk.PhotoImage(Image.open(\"image\\c.png\"))\n",
      "C:\\Users\\vjnav\\AppData\\Local\\Temp\\ipykernel_17644\\3237567309.py:6: SyntaxWarning: invalid escape sequence '\\c'\n",
      "  cpp_image = ImageTk.PhotoImage(Image.open(\"image\\cpp.png\"))\n"
     ]
    }
   ],
   "source": [
    "root = Tk()\n",
    "root.title(\"Photo Gallery\")\n",
    "\n",
    "py_image = ImageTk.PhotoImage(Image.open(\"image\\python.png\"))\n",
    "c_image = ImageTk.PhotoImage(Image.open(\"image\\c.png\"))\n",
    "cpp_image = ImageTk.PhotoImage(Image.open(\"image\\cpp.png\"))\n",
    "\n",
    "image_list = [py_image,c_image,cpp_image]\n",
    "\n",
    "def back(index):\n",
    "    global my_lable\n",
    "\n",
    "    if(index == 0):\n",
    "        return\n",
    "\n",
    "    my_lable.grid_forget()\n",
    "    my_lable = Label(image=image_list[index-1])\n",
    "    my_lable.grid(row=0,column=0,columnspan=3)\n",
    "\n",
    "    back_button = Button(root, text=\"Back\",command=lambda: back(index-1))\n",
    "    next_button = Button(root,text=\"Next\",command=lambda: next(index-1))\n",
    "\n",
    "    back_button.grid(row=1,column=0)\n",
    "    next_button.grid(row=1,column=2)\n",
    "    \n",
    "    return\n",
    "\n",
    "def next(index):\n",
    "    global my_lable\n",
    "\n",
    "    if(index == 2):\n",
    "        return\n",
    "\n",
    "    my_lable.grid_forget()\n",
    "    my_lable = Label(image=image_list[index+1])\n",
    "    my_lable.grid(row=0,column=0,columnspan=3)\n",
    "\n",
    "    back_button = Button(root, text=\"Back\",command=lambda: back(index+1))\n",
    "    next_button = Button(root,text=\"Next\",command=lambda: next(index+1))\n",
    "\n",
    "    back_button.grid(row=1,column=0)\n",
    "    next_button.grid(row=1,column=2)\n",
    "    return\n",
    "\n",
    "my_lable = Label(image=image_list[0])\n",
    "my_lable.grid(row=0,column=0,columnspan=3)\n",
    "\n",
    "\n",
    "back_button = Button(root, text=\"Back\",command=lambda: back(0))\n",
    "next_button = Button(root,text=\"Next\",command=lambda: next(0))\n",
    "exit_button = Button(root,text=\"Exit\",command=root.quit)\n",
    "\n",
    "back_button.grid(row=1,column=0)\n",
    "exit_button.grid(row=1,column=1)\n",
    "next_button.grid(row=1,column=2)\n",
    "\n",
    "root.mainloop()"
   ]
  }
 ],
 "metadata": {
  "kernelspec": {
   "display_name": "Python 3",
   "language": "python",
   "name": "python3"
  },
  "language_info": {
   "codemirror_mode": {
    "name": "ipython",
    "version": 3
   },
   "file_extension": ".py",
   "mimetype": "text/x-python",
   "name": "python",
   "nbconvert_exporter": "python",
   "pygments_lexer": "ipython3",
   "version": "3.12.3"
  }
 },
 "nbformat": 4,
 "nbformat_minor": 2
}
