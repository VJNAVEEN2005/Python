{
 "cells": [
  {
   "cell_type": "code",
   "execution_count": 1,
   "metadata": {},
   "outputs": [],
   "source": [
    "from tkinter import *"
   ]
  },
  {
   "cell_type": "markdown",
   "metadata": {},
   "source": [
    "pack"
   ]
  },
  {
   "cell_type": "code",
   "execution_count": 4,
   "metadata": {},
   "outputs": [],
   "source": [
    "root  = Tk()\n",
    "lable = Label(root,text=\"Hello World\")\n",
    "lable.pack()\n",
    "\n",
    "root.mainloop()"
   ]
  },
  {
   "cell_type": "markdown",
   "metadata": {},
   "source": [
    "grid"
   ]
  },
  {
   "cell_type": "code",
   "execution_count": 20,
   "metadata": {},
   "outputs": [],
   "source": [
    "root = Tk()\n",
    "lable = Label(root,text=\"Hello World\")\n",
    "lable.grid(row=0,column=0)\n",
    "\n",
    "lable2 = Label(root,text=\"lable2\")\n",
    "lable2.grid(row=1,column=0)\n",
    "\n",
    "root.mainloop()"
   ]
  },
  {
   "cell_type": "markdown",
   "metadata": {},
   "source": [
    "Button"
   ]
  },
  {
   "cell_type": "code",
   "execution_count": 26,
   "metadata": {},
   "outputs": [],
   "source": [
    "root1 = Tk()\n",
    "\n",
    "def onclick():\n",
    "    lable = Label(root1, text=\"you have clicked the button\",fg=\"red\")\n",
    "    lable.pack()\n",
    "\n",
    "button = Button(root1,text=\"click me\",command=onclick, state=NORMAL,fg=\"red\",bg=\"green\")\n",
    "button.pack()\n",
    "\n",
    "root1.mainloop()"
   ]
  },
  {
   "cell_type": "markdown",
   "metadata": {},
   "source": [
    "Input"
   ]
  },
  {
   "cell_type": "code",
   "execution_count": 31,
   "metadata": {},
   "outputs": [],
   "source": [
    "root = Tk()\n",
    "\n",
    "input = Entry(root,width=50)\n",
    "input.pack()\n",
    "\n",
    "def onclick():\n",
    "    lable = Label(root, text=input.get(),fg=\"red\")\n",
    "    lable.pack()\n",
    "\n",
    "button = Button(root,text=\"click me\",command=onclick, state=NORMAL,fg=\"red\",bg=\"green\")\n",
    "button.pack()\n",
    "\n",
    "root.mainloop()"
   ]
  }
 ],
 "metadata": {
  "kernelspec": {
   "display_name": "Python 3",
   "language": "python",
   "name": "python3"
  },
  "language_info": {
   "codemirror_mode": {
    "name": "ipython",
    "version": 3
   },
   "file_extension": ".py",
   "mimetype": "text/x-python",
   "name": "python",
   "nbconvert_exporter": "python",
   "pygments_lexer": "ipython3",
   "version": "3.12.3"
  }
 },
 "nbformat": 4,
 "nbformat_minor": 2
}
